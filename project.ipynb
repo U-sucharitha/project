{
  "nbformat": 4,
  "nbformat_minor": 0,
  "metadata": {
    "colab": {
      "provenance": []
    },
    "kernelspec": {
      "name": "python3",
      "display_name": "Python 3"
    },
    "language_info": {
      "name": "python"
    }
  },
  "cells": [
    {
      "cell_type": "code",
      "execution_count": 1,
      "metadata": {
        "colab": {
          "base_uri": "https://localhost:8080/"
        },
        "id": "m5GBh68Ggreg",
        "outputId": "7f16bc16-8f35-4ff9-f8ee-b7cc39d35133"
      },
      "outputs": [
        {
          "output_type": "stream",
          "name": "stdout",
          "text": [
            "Enter password length: 9\n",
            "Enter alphabets count in password: 4\n",
            "Enter digits count in password: 3\n",
            "Enter special characters count in password: 2\n",
            "857Un*CE(\n"
          ]
        }
      ],
      "source": [
        "import string\n",
        "import random\n",
        "\n",
        "## characters to generate password from\n",
        "alphabets = list(string.ascii_letters)\n",
        "digits = list(string.digits)\n",
        "special_characters = list(\"!@#$%^&*()\")\n",
        "characters = list(string.ascii_letters + string.digits + \"!@#$%^&*()\")\n",
        "\n",
        "def generate_random_password():\n",
        "    ## length of password from the user\n",
        "    length = int(input(\"Enter password length: \"))\n",
        "    ## number of character types\n",
        "    alphabets_count = int(input(\"Enter alphabets count in password: \"))\n",
        "    digits_count = int(input(\"Enter digits count in password: \"))\n",
        "    special_characters_count = int(input(\"Enter special characters count in password: \"))\n",
        "    characters_count = alphabets_count + digits_count + special_characters_count\n",
        "    ## check the total length with characters sum count\n",
        "    ## print not valid if the sum is greater than length\n",
        "    if characters_count > length:\n",
        "        print(\"Characters total count is greater than the password length\")\n",
        "        return\n",
        "\n",
        "    ## initializing the password\n",
        "    password = []\n",
        "    ## picking random alphabets\n",
        "    for i in range(alphabets_count):\n",
        "        password.append(random.choice(alphabets))\n",
        "    ## picking random digits\n",
        "    for i in range(digits_count):\n",
        "        password.append(random.choice(digits))\n",
        "    ## picking random special characters\n",
        "    for i in range(special_characters_count):\n",
        "        password.append(random.choice(special_characters))\n",
        "    ## if the total characters count is less than the password length\n",
        "    ## add random characters to make it equal to the length\n",
        "    if characters_count < length:\n",
        "        random.shuffle(characters)\n",
        "        for i in range(length - characters_count):\n",
        "            password.append(random.choice(characters))\n",
        "    ## shuffling the resultant password\n",
        "    random.shuffle(password)\n",
        "    ## converting the list to string\n",
        "    ## printing the list\n",
        "    print(\"\".join(password))\n",
        "\n",
        "## invoking the function\n",
        "generate_random_password()"
      ]
    }
  ]
}